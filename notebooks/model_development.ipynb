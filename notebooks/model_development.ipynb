import pandas as pd
import numpy as np
from src.data_preprocessing import load_data, prepare_data
from src.model import train_model, save_model
from src.evaluation import evaluate_model, print_evaluation_metrics
from src.prediction import predict_emissions_with_cargo

# Load and prepare data
data = load_data('data/CO2 Emissions_Canada.csv')
X_train, X_test, y_train, y_test = prepare_data(data)

# Train model
best_model, best_params = train_model(X_train, y_train)
print("Best Parameters:", best_params)

# Make predictions
y_pred = best_model.predict(X_test)

# Evaluate model
metrics = evaluate_model(y_test, y_pred)
print_evaluation_metrics(metrics)

# Save model
save_model(best_model, 'models/co2_emissions_model.pkl')

# Example prediction
example_prediction = predict_emissions_with_cargo(
    model=best_model,
    vehicle_class='Pickup Truck',
    engine_size=4,
    fuel_type='X',
    fuel_consumption=12,
    weight=2000
)
print(f"Predicted CO2 emissions: {example_prediction:.2f} g/km")
